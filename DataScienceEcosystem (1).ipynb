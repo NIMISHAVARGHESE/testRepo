{
 "cells": [
  {
   "cell_type": "markdown",
   "id": "7347d0cd-94f2-42fa-8f5c-79c09cc8ba30",
   "metadata": {},
   "source": [
    "# Data Science Tools and Ecosystem\n"
   ]
  },
  {
   "cell_type": "markdown",
   "id": "63327470-f04e-4546-850f-2a8125f7c29c",
   "metadata": {},
   "source": [
    "In this notebook, Data Science Tools and Ecosystem are summarized."
   ]
  },
  {
   "cell_type": "markdown",
   "id": "c4269b37-2eb0-4565-a484-a7a023b22f70",
   "metadata": {},
   "source": [
    "**Objectives:**\n",
    "\n",
    "<ul>\n",
    "    <li>List popular languages for Data Science</li>\n",
    "    <li>Commonly used libraries</li>\n",
    "    <li>Data Science Tools</li>\n",
    "    <li>Few examples of evaluating arithmetic expressions in Python</li>\n",
    "</ul>"
   ]
  },
  {
   "cell_type": "markdown",
   "id": "256db633-235c-456b-b053-07f0a95c5730",
   "metadata": {},
   "source": [
    "Some of the popular languages that Data Scientists use are:\n",
    "<ol>\n",
    "    <li>Python</li>\n",
    "    <li>Javascript</li>\n",
    "    <li>Java</li>\n",
    "    <li>R</li>\n",
    "    <li>SQL</li>\n",
    "    <li>Matlab</li>\n",
    "</ol>"
   ]
  },
  {
   "cell_type": "markdown",
   "id": "3c9eb848-518a-4fa5-b189-7cb6f31798da",
   "metadata": {},
   "source": [
    "Some of the commonly used libraries used by Data Scientists include\n",
    "<ol>\n",
    "    <li>Numpy</li>\n",
    "    <li>Pandas</li>\n",
    "    <li>Matplotlib</li>\n",
    "    <li>Seaborn</li>\n",
    "    <li>Plotly</li>\n",
    "    <li>Scikit-Learn</li>\n",
    "</ol>"
   ]
  },
  {
   "cell_type": "markdown",
   "id": "26a07462-2691-4ecc-a2bb-e20adbd4d87a",
   "metadata": {},
   "source": [
    "<table>\n",
    "    <thead>\n",
    "        <tr><th>Data Science Tools</th></tr>\n",
    "    </thead>\n",
    "    <tbody>\n",
    "        <tr><td>Python</td></tr>\n",
    "        <tr><td>R</td></tr>\n",
    "        <tr><td>Jupyter</td></tr>\n",
    "        <tr><td>Pandas</td></tr>\n",
    "        <tr><td>Pytorch</td></tr>\n",
    "        <tr><td>Apache Spark</td></tr>\n",
    "    </tbody>\n",
    "</table>"
   ]
  },
  {
   "cell_type": "markdown",
   "id": "4b9ddd3c-4d58-4c40-b7c5-7a8b7436bd6c",
   "metadata": {},
   "source": [
    "### Below are a few examples of evaluating arithmetic expressions in Python"
   ]
  },
  {
   "cell_type": "code",
   "execution_count": null,
   "id": "9f0824c7-f2e6-4363-8fd5-3e5df72770ef",
   "metadata": {},
   "outputs": [],
   "source": [
    "# This a simple arithmetic expression to multiply and then add integers\n",
    "(3*4)+5"
   ]
  },
  {
   "cell_type": "code",
   "execution_count": 6,
   "id": "ccf77456-00e5-4cb3-8ffe-bac9997e1260",
   "metadata": {},
   "outputs": [
    {
     "data": {
      "text/plain": [
       "17"
      ]
     },
     "execution_count": 6,
     "metadata": {},
     "output_type": "execute_result"
    }
   ],
   "source": [
    "code1 = compile(\"(3 * 4) + 5\", \"<string>\", \"eval\")\r\n",
    "eval(code1)"
   ]
  },
  {
   "cell_type": "code",
   "execution_count": 7,
   "id": "1e2454fc-5f3c-43ca-b1e7-115ffb902519",
   "metadata": {},
   "outputs": [],
   "source": [
    "# This will convert 200 minutes to hours by diving by 60"
   ]
  },
  {
   "cell_type": "code",
   "execution_count": 8,
   "id": "e3c54944-74ab-4520-a1fe-aa743e013b44",
   "metadata": {},
   "outputs": [
    {
     "name": "stdout",
     "output_type": "stream",
     "text": [
      "0 days, 3.3333333333333335 hours, 0 mins. \n"
     ]
    }
   ],
   "source": [
    "days = 0\n",
    "hours = 0\n",
    "mins = 0\n",
    "\n",
    "time = 200\n",
    "#days = time / 1440\n",
    "leftover_minutes = time % 1440\n",
    "hours = leftover_minutes / 60\n",
    "#mins = time - (days*1440) - (hours*60)\n",
    "print(str(days) + \" days, \" + str(hours) + \" hours, \" + str(mins) +  \" mins. \")"
   ]
  },
  {
   "cell_type": "markdown",
   "id": "5e85e1ed-251c-455d-88c5-28e8c5069bd7",
   "metadata": {},
   "source": [
    "## Author\n",
    "Nimisha Varghese"
   ]
  }
 ],
 "metadata": {
  "kernelspec": {
   "display_name": "Python 3 (ipykernel)",
   "language": "python",
   "name": "python3"
  },
  "language_info": {
   "codemirror_mode": {
    "name": "ipython",
    "version": 3
   },
   "file_extension": ".py",
   "mimetype": "text/x-python",
   "name": "python",
   "nbconvert_exporter": "python",
   "pygments_lexer": "ipython3",
   "version": "3.11.7"
  }
 },
 "nbformat": 4,
 "nbformat_minor": 5
}
